{
 "cells": [
  {
   "cell_type": "markdown",
   "metadata": {},
   "source": [
    "In this version of Isolation, the player whose turn it is when both pieces are on squares of the same color has an advantage. The reason is that whenever there is a square that both players can reach (which means that they are both on a square of the opposite color), this player moves first. If moving to this square is good, the player can not only make a good move, but he can also prevent his opponent from making a good move. The heuristics from custom_score and custom_score_2 are based on this observation. In the following we call the player who has this advantage the attacker, and we call his opponent the defender.\n",
    "\n",
    "custom_score: This heuristic increases the value from improved_score by 3 if there is a square which can be reached by both players in the next move. The value 3 was found by experimenting.\n",
    "\n",
    "custom_score_2: custom_score increases the value from improved_score for positions where the attacker has the option to occupy a square that is in reach of both players. custom_score_2 does the same, but it also decreases the value from improved_score for positions where the attacker has just moved to a square that would otherwise be available for the defender. It turns out that this does not lead to stronger play, and it seems that the additional time needed makes this heuristic perform slightly worse than custom_score.\n",
    "\n",
    "custom_score_3: improved_score compares the number of squares that each player can move to in the next move. custom_score_3 generalizes this idea: it compares the number of squares that each player can move to in the next k moves. In the implementation k = 3 is used. This heuristic is more complex than the others, and it performs worse than custom_score and custom_score_2."
   ]
  }
 ],
 "metadata": {
  "kernelspec": {
   "display_name": "Python [conda env:aind]",
   "language": "python",
   "name": "conda-env-aind-py"
  },
  "language_info": {
   "codemirror_mode": {
    "name": "ipython",
    "version": 3
   },
   "file_extension": ".py",
   "mimetype": "text/x-python",
   "name": "python",
   "nbconvert_exporter": "python",
   "pygments_lexer": "ipython3",
   "version": "3.6.0"
  }
 },
 "nbformat": 4,
 "nbformat_minor": 2
}
